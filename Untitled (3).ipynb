{
 "cells": [
  {
   "cell_type": "code",
   "execution_count": 1,
   "id": "c5aa1524",
   "metadata": {},
   "outputs": [
    {
     "data": {
      "text/plain": [
       "<QuerySet [<Books: admin - Толстой - Война и Мир>, <Books: admin - Маяковский - Сборник стихов>, <Books: admin - Маршак - Почтальон>, <Books: admin - Толстой - Юность>, <Books: admin - Горький - Горе от ума>]>"
      ]
     },
     "execution_count": 1,
     "metadata": {},
     "output_type": "execute_result"
    }
   ],
   "source": [
    "Books.objects.all()"
   ]
  },
  {
   "cell_type": "code",
   "execution_count": 12,
   "id": "6170c8bc",
   "metadata": {},
   "outputs": [],
   "source": [
    "q = Books.objects.annotate(Count('Title'))"
   ]
  },
  {
   "cell_type": "code",
   "execution_count": 13,
   "id": "be448a2e",
   "metadata": {},
   "outputs": [
    {
     "data": {
      "text/plain": [
       "1"
      ]
     },
     "execution_count": 13,
     "metadata": {},
     "output_type": "execute_result"
    }
   ],
   "source": [
    "q[0].Title__count"
   ]
  },
  {
   "cell_type": "code",
   "execution_count": 11,
   "id": "d7b73ff5",
   "metadata": {},
   "outputs": [
    {
     "data": {
      "text/plain": [
       "1"
      ]
     },
     "execution_count": 11,
     "metadata": {},
     "output_type": "execute_result"
    }
   ],
   "source": [
    "q[0].number"
   ]
  },
  {
   "cell_type": "code",
   "execution_count": null,
   "id": "a0f4fa13",
   "metadata": {},
   "outputs": [],
   "source": []
  }
 ],
 "metadata": {
  "kernelspec": {
   "display_name": "Django Shell-Plus",
   "language": "python",
   "name": "django_extensions"
  },
  "language_info": {
   "codemirror_mode": {
    "name": "ipython",
    "version": 3
   },
   "file_extension": ".py",
   "mimetype": "text/x-python",
   "name": "python",
   "nbconvert_exporter": "python",
   "pygments_lexer": "ipython3",
   "version": "3.10.7"
  }
 },
 "nbformat": 4,
 "nbformat_minor": 5
}
