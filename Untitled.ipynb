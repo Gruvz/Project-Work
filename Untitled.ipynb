{
 "cells": [
  {
   "cell_type": "code",
   "execution_count": 1,
   "id": "3ff9e50b",
   "metadata": {},
   "outputs": [
    {
     "data": {
      "text/plain": [
       "<QuerySet [<Books: admin - Толстой - Война и Мир>, <Books: admin - Маяковский - Сборник стихов>, <Books: admin - Маршак - Почтальон>, <Books: admin - Толстой - Юность>, <Books: admin - Горький - Горе от ума>]>"
      ]
     },
     "execution_count": 1,
     "metadata": {},
     "output_type": "execute_result"
    }
   ],
   "source": [
    "Books.objects.all()"
   ]
  },
  {
   "cell_type": "code",
   "execution_count": 2,
   "id": "5a14c784",
   "metadata": {
    "pycharm": {
     "name": "#%%\n"
    }
   },
   "outputs": [
    {
     "data": {
      "text/plain": [
       "5"
      ]
     },
     "execution_count": 2,
     "metadata": {},
     "output_type": "execute_result"
    }
   ],
   "source": [
    "Books.objects.count()"
   ]
  },
  {
   "cell_type": "code",
   "execution_count": 3,
   "id": "5e550656",
   "metadata": {
    "pycharm": {
     "name": "#%%\n"
    }
   },
   "outputs": [
    {
     "data": {
      "text/plain": [
       "<Books: admin - Толстой - Война и Мир>"
      ]
     },
     "execution_count": 3,
     "metadata": {},
     "output_type": "execute_result"
    }
   ],
   "source": [
    "Books.objects.get(id=60)"
   ]
  },
  {
   "cell_type": "code",
   "execution_count": 7,
   "id": "7e6da9c7",
   "metadata": {
    "scrolled": true
   },
   "outputs": [
    {
     "data": {
      "text/plain": [
       "{'_state': <django.db.models.base.ModelState at 0x201f69f4580>,\n",
       " 'id': 60,\n",
       " 'Create_id': 1,\n",
       " 'Author': 'Толстой',\n",
       " 'Title': 'Война и Мир',\n",
       " 'Content': 'Отличная книга',\n",
       " 'Shop': 'CЗКЭО',\n",
       " 'Order': 'Интернет',\n",
       " 'Price': Decimal('1000.00'),\n",
       " 'Discount': '10%',\n",
       " 'Final_Price': Decimal('900.00'),\n",
       " 'Status': 'Куплено',\n",
       " 'time_create': datetime.datetime(2022, 9, 10, 7, 10, 31, 932912, tzinfo=datetime.timezone.utc),\n",
       " 'time_update': datetime.datetime(2022, 9, 10, 7, 10, 31, 932912, tzinfo=datetime.timezone.utc),\n",
       " 'is_published': True,\n",
       " 'num_author': 1}"
      ]
     },
     "execution_count": 7,
     "metadata": {},
     "output_type": "execute_result"
    }
   ],
   "source": [
    "q = Books.objects.annotate(num_author=Count('Create_id'))\n",
    "q[0].num_author\n",
    "vars(q[0])"
   ]
  },
  {
   "cell_type": "code",
   "execution_count": 109,
   "id": "c090242c",
   "metadata": {},
   "outputs": [
    {
     "data": {
      "text/plain": [
       "{'_state': <django.db.models.base.ModelState at 0x201f97ec4f0>,\n",
       " 'id': 1,\n",
       " 'password': 'pbkdf2_sha256$390000$kvVB4KtvPgzwcTVkHfXUTS$87HoO00jKQDboZ7dxeINNft3HgP5JsKuCRwdDpaNHUY=',\n",
       " 'last_login': datetime.datetime(2022, 9, 11, 16, 56, 13, 672958, tzinfo=datetime.timezone.utc),\n",
       " 'is_superuser': True,\n",
       " 'username': 'admin',\n",
       " 'first_name': 'Topchiev',\n",
       " 'last_name': 'Dmitriy',\n",
       " 'email': 'admin@admin.ru',\n",
       " 'is_staff': True,\n",
       " 'is_active': True,\n",
       " 'date_joined': datetime.datetime(2022, 9, 7, 19, 49, 40, tzinfo=datetime.timezone.utc),\n",
       " 'book_price': Decimal('800')}"
      ]
     },
     "execution_count": 109,
     "metadata": {},
     "output_type": "execute_result"
    }
   ],
   "source": [
    "q = User.objects.annotate(book_price=Max('books__Price'))\n",
    "vars(q[1])\n"
   ]
  },
  {
   "cell_type": "code",
   "execution_count": 39,
   "id": "a9c2fab6",
   "metadata": {},
   "outputs": [
    {
     "data": {
      "text/plain": [
       "<QuerySet [<User: TDA>, <User: admin>]>"
      ]
     },
     "execution_count": 39,
     "metadata": {},
     "output_type": "execute_result"
    }
   ],
   "source": [
    "q = User.objects.annotate(Max('books__Price'))\n",
    "q"
   ]
  },
  {
   "cell_type": "code",
   "execution_count": 48,
   "id": "1cbb2a3f",
   "metadata": {},
   "outputs": [
    {
     "data": {
      "text/plain": [
       "{'_state': <django.db.models.base.ModelState at 0x201f9321960>,\n",
       " 'id': 60,\n",
       " 'Create_id': 1,\n",
       " 'Author': 'Толстой',\n",
       " 'Title': 'Война и Мир',\n",
       " 'Content': 'Отличная книга',\n",
       " 'Shop': 'CЗКЭО',\n",
       " 'Order': 'Интернет',\n",
       " 'Price': Decimal('800.00'),\n",
       " 'Discount': '10%',\n",
       " 'Final_Price': Decimal('900.00'),\n",
       " 'Status': 'Куплено',\n",
       " 'time_create': datetime.datetime(2022, 9, 10, 7, 10, 31, 932912, tzinfo=datetime.timezone.utc),\n",
       " 'time_update': datetime.datetime(2022, 9, 10, 7, 10, 31, 932912, tzinfo=datetime.timezone.utc),\n",
       " 'is_published': True,\n",
       " 'Create__count': 1}"
      ]
     },
     "execution_count": 48,
     "metadata": {},
     "output_type": "execute_result"
    }
   ],
   "source": [
    "z =  Books.objects.annotate(Count('Create'))\n",
    "vars(z[0])"
   ]
  },
  {
   "cell_type": "code",
   "execution_count": 114,
   "id": "51bc060c",
   "metadata": {},
   "outputs": [
    {
     "data": {
      "text/plain": [
       "{'Author': 'Толстой'}"
      ]
     },
     "execution_count": 114,
     "metadata": {},
     "output_type": "execute_result"
    }
   ],
   "source": [
    "x = Books.objects.values('Author').annotate(Count('Create_id'))\n",
    "x[3]"
   ]
  },
  {
   "cell_type": "code",
   "execution_count": 116,
   "id": "022db042",
   "metadata": {},
   "outputs": [
    {
     "data": {
      "text/plain": [
       "<QuerySet [{'Author': 'Горький', 'Create_id__count': 1}, {'Author': 'Маршак', 'Create_id__count': 1}, {'Author': 'Маяковский', 'Create_id__count': 1}, {'Author': 'Толстой', 'Create_id__count': 1}]>"
      ]
     },
     "execution_count": 116,
     "metadata": {},
     "output_type": "execute_result"
    }
   ],
   "source": [
    "x = Books.objects.values('Author').annotate(Count('Create_id', distinct=True))\n",
    "x[1]"
   ]
  },
  {
   "cell_type": "code",
   "execution_count": 138,
   "id": "aeef6282",
   "metadata": {},
   "outputs": [
    {
     "data": {
      "text/plain": [
       "6"
      ]
     },
     "execution_count": 138,
     "metadata": {},
     "output_type": "execute_result"
    }
   ],
   "source": [
    "x = User.objects.annotate(Count('books__Author'))\n",
    "\n",
    "x[1].books__Author__count"
   ]
  },
  {
   "cell_type": "code",
   "execution_count": 161,
   "id": "462fde3e",
   "metadata": {},
   "outputs": [
    {
     "data": {
      "text/plain": [
       "{'_state': <django.db.models.base.ModelState at 0x201f9a76380>,\n",
       " 'id': 60,\n",
       " 'Create_id': 1,\n",
       " 'Author': 'Толстой',\n",
       " 'Title': 'Война и Мир',\n",
       " 'Content': 'Отличная книга',\n",
       " 'Shop': 'CЗКЭО',\n",
       " 'Order': 'Интернет',\n",
       " 'Price': Decimal('800.00'),\n",
       " 'Discount': '10%',\n",
       " 'Final_Price': Decimal('900.00'),\n",
       " 'Status': 'Куплено',\n",
       " 'time_create': datetime.datetime(2022, 9, 10, 7, 10, 31, 932912, tzinfo=datetime.timezone.utc),\n",
       " 'time_update': datetime.datetime(2022, 9, 10, 7, 10, 31, 932912, tzinfo=datetime.timezone.utc),\n",
       " 'is_published': True,\n",
       " 'Author__count': 1}"
      ]
     },
     "execution_count": 161,
     "metadata": {},
     "output_type": "execute_result"
    }
   ],
   "source": [
    "q = Books.objects.annotate(Count('Author'))\n",
    "vars(q[0])"
   ]
  },
  {
   "cell_type": "code",
   "execution_count": 172,
   "id": "6cece5ff",
   "metadata": {},
   "outputs": [
    {
     "data": {
      "text/plain": [
       "{'_state': <django.db.models.base.ModelState at 0x201f99cd000>,\n",
       " 'id': 2,\n",
       " 'password': 'pbkdf2_sha256$390000$9Fl7tAcyXnfKCOwmBGW4d1$7NoccBN6HFNtviY41P6/qFtXM/iwrxRd2C2sjNfNA/U=',\n",
       " 'last_login': None,\n",
       " 'is_superuser': False,\n",
       " 'username': 'TDA',\n",
       " 'first_name': 'Legov',\n",
       " 'last_name': 'Max',\n",
       " 'email': 'max@max.ru',\n",
       " 'is_staff': False,\n",
       " 'is_active': True,\n",
       " 'date_joined': datetime.datetime(2022, 9, 11, 16, 56, 40, tzinfo=datetime.timezone.utc),\n",
       " 'books__Author__count': 1}"
      ]
     },
     "execution_count": 172,
     "metadata": {},
     "output_type": "execute_result"
    }
   ],
   "source": [
    "z = User.objects.exclude(first_name='Topchiev').annotate(Count('books__Author' , distinct=True))\n",
    "vars(z[0])\n"
   ]
  },
  {
   "cell_type": "code",
   "execution_count": 186,
   "id": "ea0d16bd",
   "metadata": {},
   "outputs": [
    {
     "data": {
      "text/plain": [
       "{'_state': <django.db.models.base.ModelState at 0x201f9ae2a70>,\n",
       " 'id': 1,\n",
       " 'password': 'pbkdf2_sha256$390000$kvVB4KtvPgzwcTVkHfXUTS$87HoO00jKQDboZ7dxeINNft3HgP5JsKuCRwdDpaNHUY=',\n",
       " 'last_login': datetime.datetime(2022, 9, 11, 16, 56, 13, 672958, tzinfo=datetime.timezone.utc),\n",
       " 'is_superuser': True,\n",
       " 'username': 'admin',\n",
       " 'first_name': 'Topchiev',\n",
       " 'last_name': 'Dmitriy',\n",
       " 'email': 'admin@admin.ru',\n",
       " 'is_staff': True,\n",
       " 'is_active': True,\n",
       " 'date_joined': datetime.datetime(2022, 9, 7, 19, 49, 40, tzinfo=datetime.timezone.utc),\n",
       " 'Creater': 6}"
      ]
     },
     "execution_count": 186,
     "metadata": {},
     "output_type": "execute_result"
    }
   ],
   "source": [
    "q = User.objects.annotate(Creater=Count('books__Author')).filter(Creater__gt=2)\n",
    "vars(q[0])"
   ]
  },
  {
   "cell_type": "code",
   "execution_count": 195,
   "id": "55de57a7",
   "metadata": {},
   "outputs": [
    {
     "data": {
      "text/plain": [
       "{'_state': <django.db.models.base.ModelState at 0x201f9b87cd0>,\n",
       " 'id': 1,\n",
       " 'password': 'pbkdf2_sha256$390000$kvVB4KtvPgzwcTVkHfXUTS$87HoO00jKQDboZ7dxeINNft3HgP5JsKuCRwdDpaNHUY=',\n",
       " 'last_login': datetime.datetime(2022, 9, 11, 16, 56, 13, 672958, tzinfo=datetime.timezone.utc),\n",
       " 'is_superuser': True,\n",
       " 'username': 'admin',\n",
       " 'first_name': 'Topchiev',\n",
       " 'last_name': 'Dmitriy',\n",
       " 'email': 'admin@admin.ru',\n",
       " 'is_staff': True,\n",
       " 'is_active': True,\n",
       " 'date_joined': datetime.datetime(2022, 9, 7, 19, 49, 40, tzinfo=datetime.timezone.utc),\n",
       " 'num': 6}"
      ]
     },
     "execution_count": 195,
     "metadata": {},
     "output_type": "execute_result"
    }
   ],
   "source": [
    "z = User.objects.annotate(num=Count('books__Author')).order_by('num')\n",
    "vars(z[1])"
   ]
  },
  {
   "cell_type": "code",
   "execution_count": null,
   "id": "4aa8bc81",
   "metadata": {},
   "outputs": [],
   "source": [
    "z"
   ]
  }
 ],
 "metadata": {
  "kernelspec": {
   "display_name": "Django Shell-Plus",
   "language": "python",
   "name": "django_extensions"
  },
  "language_info": {
   "codemirror_mode": {
    "name": "ipython",
    "version": 3
   },
   "file_extension": ".py",
   "mimetype": "text/x-python",
   "name": "python",
   "nbconvert_exporter": "python",
   "pygments_lexer": "ipython3",
   "version": "3.10.7"
  }
 },
 "nbformat": 4,
 "nbformat_minor": 5
}
